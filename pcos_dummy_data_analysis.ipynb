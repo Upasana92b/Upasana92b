{
  "nbformat": 4,
  "nbformat_minor": 0,
  "metadata": {
    "colab": {
      "provenance": [],
      "authorship_tag": "ABX9TyMuSsUpRlWqjseiGSDmriif",
      "include_colab_link": true
    },
    "kernelspec": {
      "name": "python3",
      "display_name": "Python 3"
    },
    "language_info": {
      "name": "python"
    }
  },
  "cells": [
    {
      "cell_type": "markdown",
      "metadata": {
        "id": "view-in-github",
        "colab_type": "text"
      },
      "source": [
        "<a href=\"https://colab.research.google.com/github/Upasana92b/Upasana92b/blob/main/pcos_dummy_data_analysis.ipynb\" target=\"_parent\"><img src=\"https://colab.research.google.com/assets/colab-badge.svg\" alt=\"Open In Colab\"/></a>"
      ]
    },
    {
      "cell_type": "markdown",
      "source": [
        "1. Install & Import Libraries"
      ],
      "metadata": {
        "id": "AfP4_Wz__VhN"
      }
    },
    {
      "cell_type": "code",
      "source": [
        "# Install libraries (if not already installed)\n",
        "!pip install openpyxl scikit-learn seaborn\n",
        "\n",
        "# Import libraries\n",
        "import pandas as pd\n",
        "import numpy as np\n",
        "import seaborn as sns\n",
        "import matplotlib.pyplot as plt\n",
        "from sklearn.model_selection import train_test_split\n",
        "from sklearn.ensemble import RandomForestClassifier\n",
        "from sklearn.metrics import classification_report, confusion_matrix\n",
        "from sklearn.preprocessing import StandardScaler\n"
      ],
      "metadata": {
        "colab": {
          "base_uri": "https://localhost:8080/"
        },
        "id": "EXsrPpp3_aH_",
        "outputId": "bbc175c3-6145-4cf1-cc35-33d5a652d31e"
      },
      "execution_count": null,
      "outputs": [
        {
          "output_type": "stream",
          "name": "stdout",
          "text": [
            "Requirement already satisfied: openpyxl in /usr/local/lib/python3.11/dist-packages (3.1.5)\n",
            "Requirement already satisfied: scikit-learn in /usr/local/lib/python3.11/dist-packages (1.4.2)\n",
            "Requirement already satisfied: seaborn in /usr/local/lib/python3.11/dist-packages (0.13.2)\n",
            "Requirement already satisfied: et-xmlfile in /usr/local/lib/python3.11/dist-packages (from openpyxl) (2.0.0)\n",
            "Requirement already satisfied: numpy>=1.19.5 in /usr/local/lib/python3.11/dist-packages (from scikit-learn) (1.26.4)\n",
            "Requirement already satisfied: scipy>=1.6.0 in /usr/local/lib/python3.11/dist-packages (from scikit-learn) (1.11.4)\n",
            "Requirement already satisfied: joblib>=1.2.0 in /usr/local/lib/python3.11/dist-packages (from scikit-learn) (1.3.2)\n",
            "Requirement already satisfied: threadpoolctl>=2.0.0 in /usr/local/lib/python3.11/dist-packages (from scikit-learn) (3.6.0)\n",
            "Requirement already satisfied: pandas>=1.2 in /usr/local/lib/python3.11/dist-packages (from seaborn) (2.1.4)\n",
            "Requirement already satisfied: matplotlib!=3.6.1,>=3.4 in /usr/local/lib/python3.11/dist-packages (from seaborn) (3.7.5)\n",
            "Requirement already satisfied: contourpy>=1.0.1 in /usr/local/lib/python3.11/dist-packages (from matplotlib!=3.6.1,>=3.4->seaborn) (1.3.2)\n",
            "Requirement already satisfied: cycler>=0.10 in /usr/local/lib/python3.11/dist-packages (from matplotlib!=3.6.1,>=3.4->seaborn) (0.12.1)\n",
            "Requirement already satisfied: fonttools>=4.22.0 in /usr/local/lib/python3.11/dist-packages (from matplotlib!=3.6.1,>=3.4->seaborn) (4.58.4)\n",
            "Requirement already satisfied: kiwisolver>=1.0.1 in /usr/local/lib/python3.11/dist-packages (from matplotlib!=3.6.1,>=3.4->seaborn) (1.4.8)\n",
            "Requirement already satisfied: packaging>=20.0 in /usr/local/lib/python3.11/dist-packages (from matplotlib!=3.6.1,>=3.4->seaborn) (24.2)\n",
            "Requirement already satisfied: pillow>=6.2.0 in /usr/local/lib/python3.11/dist-packages (from matplotlib!=3.6.1,>=3.4->seaborn) (11.2.1)\n",
            "Requirement already satisfied: pyparsing>=2.3.1 in /usr/local/lib/python3.11/dist-packages (from matplotlib!=3.6.1,>=3.4->seaborn) (3.2.3)\n",
            "Requirement already satisfied: python-dateutil>=2.7 in /usr/local/lib/python3.11/dist-packages (from matplotlib!=3.6.1,>=3.4->seaborn) (2.9.0.post0)\n",
            "Requirement already satisfied: pytz>=2020.1 in /usr/local/lib/python3.11/dist-packages (from pandas>=1.2->seaborn) (2025.2)\n",
            "Requirement already satisfied: tzdata>=2022.1 in /usr/local/lib/python3.11/dist-packages (from pandas>=1.2->seaborn) (2025.2)\n",
            "Requirement already satisfied: six>=1.5 in /usr/local/lib/python3.11/dist-packages (from python-dateutil>=2.7->matplotlib!=3.6.1,>=3.4->seaborn) (1.17.0)\n"
          ]
        }
      ]
    },
    {
      "cell_type": "markdown",
      "source": [
        "Load the Excel File"
      ],
      "metadata": {
        "id": "440_JCX0_gXu"
      }
    },
    {
      "cell_type": "code",
      "source": [
        "from google.colab import files\n",
        "uploaded = files.upload()\n",
        "\n",
        "# Get filename\n",
        "for fn in uploaded.keys():\n",
        "    file_path = fn\n",
        "    print('User uploaded file \"{name}\" with length {length} bytes'.format(\n",
        "        name=fn, length=len(uploaded[fn])))\n"
      ],
      "metadata": {
        "colab": {
          "base_uri": "https://localhost:8080/",
          "height": 92
        },
        "id": "M03hV7Nn_jj5",
        "outputId": "6a8fbba2-b48d-4ffb-a0af-9aeca5fe261a"
      },
      "execution_count": null,
      "outputs": [
        {
          "output_type": "display_data",
          "data": {
            "text/plain": [
              "<IPython.core.display.HTML object>"
            ],
            "text/html": [
              "\n",
              "     <input type=\"file\" id=\"files-d343da11-a773-4c38-96e2-376442d9033b\" name=\"files[]\" multiple disabled\n",
              "        style=\"border:none\" />\n",
              "     <output id=\"result-d343da11-a773-4c38-96e2-376442d9033b\">\n",
              "      Upload widget is only available when the cell has been executed in the\n",
              "      current browser session. Please rerun this cell to enable.\n",
              "      </output>\n",
              "      <script>// Copyright 2017 Google LLC\n",
              "//\n",
              "// Licensed under the Apache License, Version 2.0 (the \"License\");\n",
              "// you may not use this file except in compliance with the License.\n",
              "// You may obtain a copy of the License at\n",
              "//\n",
              "//      http://www.apache.org/licenses/LICENSE-2.0\n",
              "//\n",
              "// Unless required by applicable law or agreed to in writing, software\n",
              "// distributed under the License is distributed on an \"AS IS\" BASIS,\n",
              "// WITHOUT WARRANTIES OR CONDITIONS OF ANY KIND, either express or implied.\n",
              "// See the License for the specific language governing permissions and\n",
              "// limitations under the License.\n",
              "\n",
              "/**\n",
              " * @fileoverview Helpers for google.colab Python module.\n",
              " */\n",
              "(function(scope) {\n",
              "function span(text, styleAttributes = {}) {\n",
              "  const element = document.createElement('span');\n",
              "  element.textContent = text;\n",
              "  for (const key of Object.keys(styleAttributes)) {\n",
              "    element.style[key] = styleAttributes[key];\n",
              "  }\n",
              "  return element;\n",
              "}\n",
              "\n",
              "// Max number of bytes which will be uploaded at a time.\n",
              "const MAX_PAYLOAD_SIZE = 100 * 1024;\n",
              "\n",
              "function _uploadFiles(inputId, outputId) {\n",
              "  const steps = uploadFilesStep(inputId, outputId);\n",
              "  const outputElement = document.getElementById(outputId);\n",
              "  // Cache steps on the outputElement to make it available for the next call\n",
              "  // to uploadFilesContinue from Python.\n",
              "  outputElement.steps = steps;\n",
              "\n",
              "  return _uploadFilesContinue(outputId);\n",
              "}\n",
              "\n",
              "// This is roughly an async generator (not supported in the browser yet),\n",
              "// where there are multiple asynchronous steps and the Python side is going\n",
              "// to poll for completion of each step.\n",
              "// This uses a Promise to block the python side on completion of each step,\n",
              "// then passes the result of the previous step as the input to the next step.\n",
              "function _uploadFilesContinue(outputId) {\n",
              "  const outputElement = document.getElementById(outputId);\n",
              "  const steps = outputElement.steps;\n",
              "\n",
              "  const next = steps.next(outputElement.lastPromiseValue);\n",
              "  return Promise.resolve(next.value.promise).then((value) => {\n",
              "    // Cache the last promise value to make it available to the next\n",
              "    // step of the generator.\n",
              "    outputElement.lastPromiseValue = value;\n",
              "    return next.value.response;\n",
              "  });\n",
              "}\n",
              "\n",
              "/**\n",
              " * Generator function which is called between each async step of the upload\n",
              " * process.\n",
              " * @param {string} inputId Element ID of the input file picker element.\n",
              " * @param {string} outputId Element ID of the output display.\n",
              " * @return {!Iterable<!Object>} Iterable of next steps.\n",
              " */\n",
              "function* uploadFilesStep(inputId, outputId) {\n",
              "  const inputElement = document.getElementById(inputId);\n",
              "  inputElement.disabled = false;\n",
              "\n",
              "  const outputElement = document.getElementById(outputId);\n",
              "  outputElement.innerHTML = '';\n",
              "\n",
              "  const pickedPromise = new Promise((resolve) => {\n",
              "    inputElement.addEventListener('change', (e) => {\n",
              "      resolve(e.target.files);\n",
              "    });\n",
              "  });\n",
              "\n",
              "  const cancel = document.createElement('button');\n",
              "  inputElement.parentElement.appendChild(cancel);\n",
              "  cancel.textContent = 'Cancel upload';\n",
              "  const cancelPromise = new Promise((resolve) => {\n",
              "    cancel.onclick = () => {\n",
              "      resolve(null);\n",
              "    };\n",
              "  });\n",
              "\n",
              "  // Wait for the user to pick the files.\n",
              "  const files = yield {\n",
              "    promise: Promise.race([pickedPromise, cancelPromise]),\n",
              "    response: {\n",
              "      action: 'starting',\n",
              "    }\n",
              "  };\n",
              "\n",
              "  cancel.remove();\n",
              "\n",
              "  // Disable the input element since further picks are not allowed.\n",
              "  inputElement.disabled = true;\n",
              "\n",
              "  if (!files) {\n",
              "    return {\n",
              "      response: {\n",
              "        action: 'complete',\n",
              "      }\n",
              "    };\n",
              "  }\n",
              "\n",
              "  for (const file of files) {\n",
              "    const li = document.createElement('li');\n",
              "    li.append(span(file.name, {fontWeight: 'bold'}));\n",
              "    li.append(span(\n",
              "        `(${file.type || 'n/a'}) - ${file.size} bytes, ` +\n",
              "        `last modified: ${\n",
              "            file.lastModifiedDate ? file.lastModifiedDate.toLocaleDateString() :\n",
              "                                    'n/a'} - `));\n",
              "    const percent = span('0% done');\n",
              "    li.appendChild(percent);\n",
              "\n",
              "    outputElement.appendChild(li);\n",
              "\n",
              "    const fileDataPromise = new Promise((resolve) => {\n",
              "      const reader = new FileReader();\n",
              "      reader.onload = (e) => {\n",
              "        resolve(e.target.result);\n",
              "      };\n",
              "      reader.readAsArrayBuffer(file);\n",
              "    });\n",
              "    // Wait for the data to be ready.\n",
              "    let fileData = yield {\n",
              "      promise: fileDataPromise,\n",
              "      response: {\n",
              "        action: 'continue',\n",
              "      }\n",
              "    };\n",
              "\n",
              "    // Use a chunked sending to avoid message size limits. See b/62115660.\n",
              "    let position = 0;\n",
              "    do {\n",
              "      const length = Math.min(fileData.byteLength - position, MAX_PAYLOAD_SIZE);\n",
              "      const chunk = new Uint8Array(fileData, position, length);\n",
              "      position += length;\n",
              "\n",
              "      const base64 = btoa(String.fromCharCode.apply(null, chunk));\n",
              "      yield {\n",
              "        response: {\n",
              "          action: 'append',\n",
              "          file: file.name,\n",
              "          data: base64,\n",
              "        },\n",
              "      };\n",
              "\n",
              "      let percentDone = fileData.byteLength === 0 ?\n",
              "          100 :\n",
              "          Math.round((position / fileData.byteLength) * 100);\n",
              "      percent.textContent = `${percentDone}% done`;\n",
              "\n",
              "    } while (position < fileData.byteLength);\n",
              "  }\n",
              "\n",
              "  // All done.\n",
              "  yield {\n",
              "    response: {\n",
              "      action: 'complete',\n",
              "    }\n",
              "  };\n",
              "}\n",
              "\n",
              "scope.google = scope.google || {};\n",
              "scope.google.colab = scope.google.colab || {};\n",
              "scope.google.colab._files = {\n",
              "  _uploadFiles,\n",
              "  _uploadFilesContinue,\n",
              "};\n",
              "})(self);\n",
              "</script> "
            ]
          },
          "metadata": {}
        },
        {
          "output_type": "stream",
          "name": "stdout",
          "text": [
            "Saving pcos responses-dummy.xlsx to pcos responses-dummy (2).xlsx\n",
            "User uploaded file \"pcos responses-dummy (2).xlsx\" with length 98199 bytes\n"
          ]
        }
      ]
    },
    {
      "cell_type": "code",
      "source": [
        "# Read Excel file\n",
        "xls = pd.ExcelFile(file_path)\n",
        "print(\"Sheet names:\", xls.sheet_names)\n",
        "\n",
        "# Assuming data is in the first sheet:\n",
        "df = pd.read_excel(xls, sheet_name=xls.sheet_names[0])\n",
        "\n",
        "# Preview data\n",
        "df.head()\n"
      ],
      "metadata": {
        "colab": {
          "base_uri": "https://localhost:8080/",
          "height": 621
        },
        "id": "ZwJacYMv_7Na",
        "outputId": "cafea81c-c3e9-419c-c180-e44f5bc91338"
      },
      "execution_count": null,
      "outputs": [
        {
          "output_type": "stream",
          "name": "stdout",
          "text": [
            "Sheet names: ['Sheet1']\n"
          ]
        },
        {
          "output_type": "execute_result",
          "data": {
            "text/plain": [
              "  Age Group Gender Are you currently a student?               Level of study  \\\n",
              "0       64+   Male                           No           Undergraduate (UG)   \n",
              "1     55-64   Male                          Yes  Postgraduate Research (PGR)   \n",
              "2     55-64   Male                          Yes           Undergraduate (UG)   \n",
              "3       64+   Male                          Yes    Postgraduate Taught (PGT)   \n",
              "4     16-24   Male                          Yes    Postgraduate Taught (PGT)   \n",
              "\n",
              "  Mode of study Study format             Academic Program Nationality  Height  \\\n",
              "0     Full-time    On-campus                MBA Marketing     British  184 cm   \n",
              "1     Full-time    On-campus            MSc Public Health    American  152 cm   \n",
              "2     Part-time    On-campus                   MA History      German  185 cm   \n",
              "3     Part-time       Online  MSc Artificial Intelligence     British  145 cm   \n",
              "4     Part-time       Online  BEng Mechanical Engineering    Canadian  171 cm   \n",
              "\n",
              "   Weight  ... Physical activity level  \\\n",
              "0   60 kg  ...               Very high   \n",
              "1  112 kg  ...                    High   \n",
              "2   78 kg  ...               Very high   \n",
              "3   58 kg  ...                Moderate   \n",
              "4   65 kg  ...                Moderate   \n",
              "\n",
              "  Recent weight gain or difficulty losing Smoke or tobacco use  \\\n",
              "0                                      No                   No   \n",
              "1                                      No                  Yes   \n",
              "2                                      No         Occasionally   \n",
              "3                                      No         Occasionally   \n",
              "4                                     Yes         Occasionally   \n",
              "\n",
              "  Alcohol consumption                             Daily diet description  \\\n",
              "0          Frequently      Other (Please specify) (Intermittent Fasting)   \n",
              "1          Frequently             Other (Please specify) (Mediterranean)   \n",
              "2        Occasionally  Balanced (fruits, vegetables, protein. Whole g...   \n",
              "3               Never                        High in carbohydrates/sugar   \n",
              "4        Occasionally                     High in processed or fast food   \n",
              "\n",
              "   Caffeine consumption      Fitness routine  \\\n",
              "0                 Daily        Dance classes   \n",
              "1  Multiple times a day  No specific routine   \n",
              "2                 Never             Swimming   \n",
              "3          Occasionally             Swimming   \n",
              "4  Multiple times a day     Pilates sessions   \n",
              "\n",
              "                  Stress management Emotional eating  \\\n",
              "0                           Average            Never   \n",
              "1                              Poor            Never   \n",
              "2                         Very good       Frequently   \n",
              "3  I feel stressed most of the time           Rarely   \n",
              "4                              Poor           Rarely   \n",
              "\n",
              "                            Free text comments  \n",
              "0  I wish there was more awareness about PCOS.  \n",
              "1                    It's a complex condition.  \n",
              "2                    It's a complex condition.  \n",
              "3  I wish there was more awareness about PCOS.  \n",
              "4                                          NaN  \n",
              "\n",
              "[5 rows x 50 columns]"
            ],
            "text/html": [
              "\n",
              "  <div id=\"df-be114694-ec70-4839-823c-4d9895be4c77\" class=\"colab-df-container\">\n",
              "    <div>\n",
              "<style scoped>\n",
              "    .dataframe tbody tr th:only-of-type {\n",
              "        vertical-align: middle;\n",
              "    }\n",
              "\n",
              "    .dataframe tbody tr th {\n",
              "        vertical-align: top;\n",
              "    }\n",
              "\n",
              "    .dataframe thead th {\n",
              "        text-align: right;\n",
              "    }\n",
              "</style>\n",
              "<table border=\"1\" class=\"dataframe\">\n",
              "  <thead>\n",
              "    <tr style=\"text-align: right;\">\n",
              "      <th></th>\n",
              "      <th>Age Group</th>\n",
              "      <th>Gender</th>\n",
              "      <th>Are you currently a student?</th>\n",
              "      <th>Level of study</th>\n",
              "      <th>Mode of study</th>\n",
              "      <th>Study format</th>\n",
              "      <th>Academic Program</th>\n",
              "      <th>Nationality</th>\n",
              "      <th>Height</th>\n",
              "      <th>Weight</th>\n",
              "      <th>...</th>\n",
              "      <th>Physical activity level</th>\n",
              "      <th>Recent weight gain or difficulty losing</th>\n",
              "      <th>Smoke or tobacco use</th>\n",
              "      <th>Alcohol consumption</th>\n",
              "      <th>Daily diet description</th>\n",
              "      <th>Caffeine consumption</th>\n",
              "      <th>Fitness routine</th>\n",
              "      <th>Stress management</th>\n",
              "      <th>Emotional eating</th>\n",
              "      <th>Free text comments</th>\n",
              "    </tr>\n",
              "  </thead>\n",
              "  <tbody>\n",
              "    <tr>\n",
              "      <th>0</th>\n",
              "      <td>64+</td>\n",
              "      <td>Male</td>\n",
              "      <td>No</td>\n",
              "      <td>Undergraduate (UG)</td>\n",
              "      <td>Full-time</td>\n",
              "      <td>On-campus</td>\n",
              "      <td>MBA Marketing</td>\n",
              "      <td>British</td>\n",
              "      <td>184 cm</td>\n",
              "      <td>60 kg</td>\n",
              "      <td>...</td>\n",
              "      <td>Very high</td>\n",
              "      <td>No</td>\n",
              "      <td>No</td>\n",
              "      <td>Frequently</td>\n",
              "      <td>Other (Please specify) (Intermittent Fasting)</td>\n",
              "      <td>Daily</td>\n",
              "      <td>Dance classes</td>\n",
              "      <td>Average</td>\n",
              "      <td>Never</td>\n",
              "      <td>I wish there was more awareness about PCOS.</td>\n",
              "    </tr>\n",
              "    <tr>\n",
              "      <th>1</th>\n",
              "      <td>55-64</td>\n",
              "      <td>Male</td>\n",
              "      <td>Yes</td>\n",
              "      <td>Postgraduate Research (PGR)</td>\n",
              "      <td>Full-time</td>\n",
              "      <td>On-campus</td>\n",
              "      <td>MSc Public Health</td>\n",
              "      <td>American</td>\n",
              "      <td>152 cm</td>\n",
              "      <td>112 kg</td>\n",
              "      <td>...</td>\n",
              "      <td>High</td>\n",
              "      <td>No</td>\n",
              "      <td>Yes</td>\n",
              "      <td>Frequently</td>\n",
              "      <td>Other (Please specify) (Mediterranean)</td>\n",
              "      <td>Multiple times a day</td>\n",
              "      <td>No specific routine</td>\n",
              "      <td>Poor</td>\n",
              "      <td>Never</td>\n",
              "      <td>It's a complex condition.</td>\n",
              "    </tr>\n",
              "    <tr>\n",
              "      <th>2</th>\n",
              "      <td>55-64</td>\n",
              "      <td>Male</td>\n",
              "      <td>Yes</td>\n",
              "      <td>Undergraduate (UG)</td>\n",
              "      <td>Part-time</td>\n",
              "      <td>On-campus</td>\n",
              "      <td>MA History</td>\n",
              "      <td>German</td>\n",
              "      <td>185 cm</td>\n",
              "      <td>78 kg</td>\n",
              "      <td>...</td>\n",
              "      <td>Very high</td>\n",
              "      <td>No</td>\n",
              "      <td>Occasionally</td>\n",
              "      <td>Occasionally</td>\n",
              "      <td>Balanced (fruits, vegetables, protein. Whole g...</td>\n",
              "      <td>Never</td>\n",
              "      <td>Swimming</td>\n",
              "      <td>Very good</td>\n",
              "      <td>Frequently</td>\n",
              "      <td>It's a complex condition.</td>\n",
              "    </tr>\n",
              "    <tr>\n",
              "      <th>3</th>\n",
              "      <td>64+</td>\n",
              "      <td>Male</td>\n",
              "      <td>Yes</td>\n",
              "      <td>Postgraduate Taught (PGT)</td>\n",
              "      <td>Part-time</td>\n",
              "      <td>Online</td>\n",
              "      <td>MSc Artificial Intelligence</td>\n",
              "      <td>British</td>\n",
              "      <td>145 cm</td>\n",
              "      <td>58 kg</td>\n",
              "      <td>...</td>\n",
              "      <td>Moderate</td>\n",
              "      <td>No</td>\n",
              "      <td>Occasionally</td>\n",
              "      <td>Never</td>\n",
              "      <td>High in carbohydrates/sugar</td>\n",
              "      <td>Occasionally</td>\n",
              "      <td>Swimming</td>\n",
              "      <td>I feel stressed most of the time</td>\n",
              "      <td>Rarely</td>\n",
              "      <td>I wish there was more awareness about PCOS.</td>\n",
              "    </tr>\n",
              "    <tr>\n",
              "      <th>4</th>\n",
              "      <td>16-24</td>\n",
              "      <td>Male</td>\n",
              "      <td>Yes</td>\n",
              "      <td>Postgraduate Taught (PGT)</td>\n",
              "      <td>Part-time</td>\n",
              "      <td>Online</td>\n",
              "      <td>BEng Mechanical Engineering</td>\n",
              "      <td>Canadian</td>\n",
              "      <td>171 cm</td>\n",
              "      <td>65 kg</td>\n",
              "      <td>...</td>\n",
              "      <td>Moderate</td>\n",
              "      <td>Yes</td>\n",
              "      <td>Occasionally</td>\n",
              "      <td>Occasionally</td>\n",
              "      <td>High in processed or fast food</td>\n",
              "      <td>Multiple times a day</td>\n",
              "      <td>Pilates sessions</td>\n",
              "      <td>Poor</td>\n",
              "      <td>Rarely</td>\n",
              "      <td>NaN</td>\n",
              "    </tr>\n",
              "  </tbody>\n",
              "</table>\n",
              "<p>5 rows × 50 columns</p>\n",
              "</div>\n",
              "    <div class=\"colab-df-buttons\">\n",
              "\n",
              "  <div class=\"colab-df-container\">\n",
              "    <button class=\"colab-df-convert\" onclick=\"convertToInteractive('df-be114694-ec70-4839-823c-4d9895be4c77')\"\n",
              "            title=\"Convert this dataframe to an interactive table.\"\n",
              "            style=\"display:none;\">\n",
              "\n",
              "  <svg xmlns=\"http://www.w3.org/2000/svg\" height=\"24px\" viewBox=\"0 -960 960 960\">\n",
              "    <path d=\"M120-120v-720h720v720H120Zm60-500h600v-160H180v160Zm220 220h160v-160H400v160Zm0 220h160v-160H400v160ZM180-400h160v-160H180v160Zm440 0h160v-160H620v160ZM180-180h160v-160H180v160Zm440 0h160v-160H620v160Z\"/>\n",
              "  </svg>\n",
              "    </button>\n",
              "\n",
              "  <style>\n",
              "    .colab-df-container {\n",
              "      display:flex;\n",
              "      gap: 12px;\n",
              "    }\n",
              "\n",
              "    .colab-df-convert {\n",
              "      background-color: #E8F0FE;\n",
              "      border: none;\n",
              "      border-radius: 50%;\n",
              "      cursor: pointer;\n",
              "      display: none;\n",
              "      fill: #1967D2;\n",
              "      height: 32px;\n",
              "      padding: 0 0 0 0;\n",
              "      width: 32px;\n",
              "    }\n",
              "\n",
              "    .colab-df-convert:hover {\n",
              "      background-color: #E2EBFA;\n",
              "      box-shadow: 0px 1px 2px rgba(60, 64, 67, 0.3), 0px 1px 3px 1px rgba(60, 64, 67, 0.15);\n",
              "      fill: #174EA6;\n",
              "    }\n",
              "\n",
              "    .colab-df-buttons div {\n",
              "      margin-bottom: 4px;\n",
              "    }\n",
              "\n",
              "    [theme=dark] .colab-df-convert {\n",
              "      background-color: #3B4455;\n",
              "      fill: #D2E3FC;\n",
              "    }\n",
              "\n",
              "    [theme=dark] .colab-df-convert:hover {\n",
              "      background-color: #434B5C;\n",
              "      box-shadow: 0px 1px 3px 1px rgba(0, 0, 0, 0.15);\n",
              "      filter: drop-shadow(0px 1px 2px rgba(0, 0, 0, 0.3));\n",
              "      fill: #FFFFFF;\n",
              "    }\n",
              "  </style>\n",
              "\n",
              "    <script>\n",
              "      const buttonEl =\n",
              "        document.querySelector('#df-be114694-ec70-4839-823c-4d9895be4c77 button.colab-df-convert');\n",
              "      buttonEl.style.display =\n",
              "        google.colab.kernel.accessAllowed ? 'block' : 'none';\n",
              "\n",
              "      async function convertToInteractive(key) {\n",
              "        const element = document.querySelector('#df-be114694-ec70-4839-823c-4d9895be4c77');\n",
              "        const dataTable =\n",
              "          await google.colab.kernel.invokeFunction('convertToInteractive',\n",
              "                                                    [key], {});\n",
              "        if (!dataTable) return;\n",
              "\n",
              "        const docLinkHtml = 'Like what you see? Visit the ' +\n",
              "          '<a target=\"_blank\" href=https://colab.research.google.com/notebooks/data_table.ipynb>data table notebook</a>'\n",
              "          + ' to learn more about interactive tables.';\n",
              "        element.innerHTML = '';\n",
              "        dataTable['output_type'] = 'display_data';\n",
              "        await google.colab.output.renderOutput(dataTable, element);\n",
              "        const docLink = document.createElement('div');\n",
              "        docLink.innerHTML = docLinkHtml;\n",
              "        element.appendChild(docLink);\n",
              "      }\n",
              "    </script>\n",
              "  </div>\n",
              "\n",
              "\n",
              "    <div id=\"df-1aa3bef2-3573-4306-9afa-abcf04b965b7\">\n",
              "      <button class=\"colab-df-quickchart\" onclick=\"quickchart('df-1aa3bef2-3573-4306-9afa-abcf04b965b7')\"\n",
              "                title=\"Suggest charts\"\n",
              "                style=\"display:none;\">\n",
              "\n",
              "<svg xmlns=\"http://www.w3.org/2000/svg\" height=\"24px\"viewBox=\"0 0 24 24\"\n",
              "     width=\"24px\">\n",
              "    <g>\n",
              "        <path d=\"M19 3H5c-1.1 0-2 .9-2 2v14c0 1.1.9 2 2 2h14c1.1 0 2-.9 2-2V5c0-1.1-.9-2-2-2zM9 17H7v-7h2v7zm4 0h-2V7h2v10zm4 0h-2v-4h2v4z\"/>\n",
              "    </g>\n",
              "</svg>\n",
              "      </button>\n",
              "\n",
              "<style>\n",
              "  .colab-df-quickchart {\n",
              "      --bg-color: #E8F0FE;\n",
              "      --fill-color: #1967D2;\n",
              "      --hover-bg-color: #E2EBFA;\n",
              "      --hover-fill-color: #174EA6;\n",
              "      --disabled-fill-color: #AAA;\n",
              "      --disabled-bg-color: #DDD;\n",
              "  }\n",
              "\n",
              "  [theme=dark] .colab-df-quickchart {\n",
              "      --bg-color: #3B4455;\n",
              "      --fill-color: #D2E3FC;\n",
              "      --hover-bg-color: #434B5C;\n",
              "      --hover-fill-color: #FFFFFF;\n",
              "      --disabled-bg-color: #3B4455;\n",
              "      --disabled-fill-color: #666;\n",
              "  }\n",
              "\n",
              "  .colab-df-quickchart {\n",
              "    background-color: var(--bg-color);\n",
              "    border: none;\n",
              "    border-radius: 50%;\n",
              "    cursor: pointer;\n",
              "    display: none;\n",
              "    fill: var(--fill-color);\n",
              "    height: 32px;\n",
              "    padding: 0;\n",
              "    width: 32px;\n",
              "  }\n",
              "\n",
              "  .colab-df-quickchart:hover {\n",
              "    background-color: var(--hover-bg-color);\n",
              "    box-shadow: 0 1px 2px rgba(60, 64, 67, 0.3), 0 1px 3px 1px rgba(60, 64, 67, 0.15);\n",
              "    fill: var(--button-hover-fill-color);\n",
              "  }\n",
              "\n",
              "  .colab-df-quickchart-complete:disabled,\n",
              "  .colab-df-quickchart-complete:disabled:hover {\n",
              "    background-color: var(--disabled-bg-color);\n",
              "    fill: var(--disabled-fill-color);\n",
              "    box-shadow: none;\n",
              "  }\n",
              "\n",
              "  .colab-df-spinner {\n",
              "    border: 2px solid var(--fill-color);\n",
              "    border-color: transparent;\n",
              "    border-bottom-color: var(--fill-color);\n",
              "    animation:\n",
              "      spin 1s steps(1) infinite;\n",
              "  }\n",
              "\n",
              "  @keyframes spin {\n",
              "    0% {\n",
              "      border-color: transparent;\n",
              "      border-bottom-color: var(--fill-color);\n",
              "      border-left-color: var(--fill-color);\n",
              "    }\n",
              "    20% {\n",
              "      border-color: transparent;\n",
              "      border-left-color: var(--fill-color);\n",
              "      border-top-color: var(--fill-color);\n",
              "    }\n",
              "    30% {\n",
              "      border-color: transparent;\n",
              "      border-left-color: var(--fill-color);\n",
              "      border-top-color: var(--fill-color);\n",
              "      border-right-color: var(--fill-color);\n",
              "    }\n",
              "    40% {\n",
              "      border-color: transparent;\n",
              "      border-right-color: var(--fill-color);\n",
              "      border-top-color: var(--fill-color);\n",
              "    }\n",
              "    60% {\n",
              "      border-color: transparent;\n",
              "      border-right-color: var(--fill-color);\n",
              "    }\n",
              "    80% {\n",
              "      border-color: transparent;\n",
              "      border-right-color: var(--fill-color);\n",
              "      border-bottom-color: var(--fill-color);\n",
              "    }\n",
              "    90% {\n",
              "      border-color: transparent;\n",
              "      border-bottom-color: var(--fill-color);\n",
              "    }\n",
              "  }\n",
              "</style>\n",
              "\n",
              "      <script>\n",
              "        async function quickchart(key) {\n",
              "          const quickchartButtonEl =\n",
              "            document.querySelector('#' + key + ' button');\n",
              "          quickchartButtonEl.disabled = true;  // To prevent multiple clicks.\n",
              "          quickchartButtonEl.classList.add('colab-df-spinner');\n",
              "          try {\n",
              "            const charts = await google.colab.kernel.invokeFunction(\n",
              "                'suggestCharts', [key], {});\n",
              "          } catch (error) {\n",
              "            console.error('Error during call to suggestCharts:', error);\n",
              "          }\n",
              "          quickchartButtonEl.classList.remove('colab-df-spinner');\n",
              "          quickchartButtonEl.classList.add('colab-df-quickchart-complete');\n",
              "        }\n",
              "        (() => {\n",
              "          let quickchartButtonEl =\n",
              "            document.querySelector('#df-1aa3bef2-3573-4306-9afa-abcf04b965b7 button');\n",
              "          quickchartButtonEl.style.display =\n",
              "            google.colab.kernel.accessAllowed ? 'block' : 'none';\n",
              "        })();\n",
              "      </script>\n",
              "    </div>\n",
              "\n",
              "    </div>\n",
              "  </div>\n"
            ],
            "application/vnd.google.colaboratory.intrinsic+json": {
              "type": "dataframe",
              "variable_name": "df"
            }
          },
          "metadata": {},
          "execution_count": 3
        }
      ]
    },
    {
      "cell_type": "markdown",
      "source": [
        "Basic Data Info"
      ],
      "metadata": {
        "id": "DEDLlZ8v_9A4"
      }
    },
    {
      "cell_type": "code",
      "source": [
        "# Check data info\n",
        "df.info()\n",
        "\n",
        "# Check missing values\n",
        "print(df.isnull().sum())\n",
        "\n",
        "# Describe numeric columns\n",
        "df.describe()\n"
      ],
      "metadata": {
        "colab": {
          "base_uri": "https://localhost:8080/",
          "height": 1000
        },
        "id": "ADnXCqbx__Wy",
        "outputId": "80c3f7be-4a19-47da-bd00-cb9877c22a93"
      },
      "execution_count": null,
      "outputs": [
        {
          "output_type": "stream",
          "name": "stdout",
          "text": [
            "<class 'pandas.core.frame.DataFrame'>\n",
            "RangeIndex: 400 entries, 0 to 399\n",
            "Data columns (total 50 columns):\n",
            " #   Column                                   Non-Null Count  Dtype \n",
            "---  ------                                   --------------  ----- \n",
            " 0   Age Group                                400 non-null    object\n",
            " 1   Gender                                   400 non-null    object\n",
            " 2   Are you currently a student?             400 non-null    object\n",
            " 3   Level of study                           400 non-null    object\n",
            " 4   Mode of study                            400 non-null    object\n",
            " 5   Study format                             400 non-null    object\n",
            " 6   Academic Program                         400 non-null    object\n",
            " 7   Nationality                              400 non-null    object\n",
            " 8   Height                                   400 non-null    object\n",
            " 9   Weight                                   400 non-null    object\n",
            " 10  Access to healthcare                     400 non-null    object\n",
            " 11  Heard of PCOS                            400 non-null    object\n",
            " 12  First heard about PCOS                   400 non-null    object\n",
            " 13  Knowledge of PCOS                        400 non-null    object\n",
            " 14  Symptoms of PCOS                         400 non-null    object\n",
            " 15  PCOS managed by lifestyle                400 non-null    object\n",
            " 16  PCOS is curable                          400 non-null    object\n",
            " 17  PCOS affects mental health               400 non-null    object\n",
            " 18  Know someone with PCOS                   400 non-null    object\n",
            " 19  More awareness needed                    400 non-null    object\n",
            " 20  Irregular menstrual cycles               400 non-null    object\n",
            " 21  Diagnosed with PCOS                      400 non-null    object\n",
            " 22  Missed period >2 months                  400 non-null    object\n",
            " 23  Spotting or bleeding between cycles      400 non-null    object\n",
            " 24  Hormonal blood tests                     400 non-null    object\n",
            " 25  Ovarian cysts                            400 non-null    object\n",
            " 26  Taken hormonal medications               400 non-null    object\n",
            " 27  Track menstrual cycle                    400 non-null    object\n",
            " 28  Other symptoms                           400 non-null    object\n",
            " 29  Insulin resistance or pre-diabetes       400 non-null    object\n",
            " 30  Fatigue frequency                        400 non-null    object\n",
            " 31  Mood changes                             400 non-null    object\n",
            " 32  Bloating or digestive issues             400 non-null    object\n",
            " 33  Skin issues                              400 non-null    object\n",
            " 34  Breast tenderness                        400 non-null    object\n",
            " 35  Hair thinning or bald spots              400 non-null    object\n",
            " 36  Supplements or hormonal meds             400 non-null    object\n",
            " 37  Sleep patterns                           400 non-null    object\n",
            " 38  Medical conditions                       352 non-null    object\n",
            " 39  Sugary/processed food frequency          400 non-null    object\n",
            " 40  Physical activity level                  400 non-null    object\n",
            " 41  Recent weight gain or difficulty losing  400 non-null    object\n",
            " 42  Smoke or tobacco use                     400 non-null    object\n",
            " 43  Alcohol consumption                      400 non-null    object\n",
            " 44  Daily diet description                   400 non-null    object\n",
            " 45  Caffeine consumption                     400 non-null    object\n",
            " 46  Fitness routine                          400 non-null    object\n",
            " 47  Stress management                        400 non-null    object\n",
            " 48  Emotional eating                         400 non-null    object\n",
            " 49  Free text comments                       304 non-null    object\n",
            "dtypes: object(50)\n",
            "memory usage: 156.4+ KB\n",
            "Age Group                                   0\n",
            "Gender                                      0\n",
            "Are you currently a student?                0\n",
            "Level of study                              0\n",
            "Mode of study                               0\n",
            "Study format                                0\n",
            "Academic Program                            0\n",
            "Nationality                                 0\n",
            "Height                                      0\n",
            "Weight                                      0\n",
            "Access to healthcare                        0\n",
            "Heard of PCOS                               0\n",
            "First heard about PCOS                      0\n",
            "Knowledge of PCOS                           0\n",
            "Symptoms of PCOS                            0\n",
            "PCOS managed by lifestyle                   0\n",
            "PCOS is curable                             0\n",
            "PCOS affects mental health                  0\n",
            "Know someone with PCOS                      0\n",
            "More awareness needed                       0\n",
            "Irregular menstrual cycles                  0\n",
            "Diagnosed with PCOS                         0\n",
            "Missed period >2 months                     0\n",
            "Spotting or bleeding between cycles         0\n",
            "Hormonal blood tests                        0\n",
            "Ovarian cysts                               0\n",
            "Taken hormonal medications                  0\n",
            "Track menstrual cycle                       0\n",
            "Other symptoms                              0\n",
            "Insulin resistance or pre-diabetes          0\n",
            "Fatigue frequency                           0\n",
            "Mood changes                                0\n",
            "Bloating or digestive issues                0\n",
            "Skin issues                                 0\n",
            "Breast tenderness                           0\n",
            "Hair thinning or bald spots                 0\n",
            "Supplements or hormonal meds                0\n",
            "Sleep patterns                              0\n",
            "Medical conditions                         48\n",
            "Sugary/processed food frequency             0\n",
            "Physical activity level                     0\n",
            "Recent weight gain or difficulty losing     0\n",
            "Smoke or tobacco use                        0\n",
            "Alcohol consumption                         0\n",
            "Daily diet description                      0\n",
            "Caffeine consumption                        0\n",
            "Fitness routine                             0\n",
            "Stress management                           0\n",
            "Emotional eating                            0\n",
            "Free text comments                         96\n",
            "dtype: int64\n"
          ]
        },
        {
          "output_type": "execute_result",
          "data": {
            "text/plain": [
              "       Age Group Gender Are you currently a student?  \\\n",
              "count        400    400                          400   \n",
              "unique         6      4                            2   \n",
              "top        25-34   Male                           No   \n",
              "freq          78    136                          208   \n",
              "\n",
              "                     Level of study Mode of study Study format  \\\n",
              "count                           400           400          400   \n",
              "unique                            4             2            2   \n",
              "top     Postgraduate Research (PGR)     Full-time    On-campus   \n",
              "freq                            116           200          204   \n",
              "\n",
              "       Academic Program Nationality  Height Weight  ...  \\\n",
              "count               400         400     400    400  ...   \n",
              "unique               12          10      50     75  ...   \n",
              "top          MA History     British  152 cm  66 kg  ...   \n",
              "freq                 46          52      16     14  ...   \n",
              "\n",
              "       Physical activity level Recent weight gain or difficulty losing  \\\n",
              "count                      400                                     400   \n",
              "unique                       4                                       2   \n",
              "top                   Very low                                      No   \n",
              "freq                       118                                     216   \n",
              "\n",
              "       Smoke or tobacco use Alcohol consumption Daily diet description  \\\n",
              "count                   400                 400                    400   \n",
              "unique                    3                   4                      8   \n",
              "top                      No               Never       Vegetarian/vegan   \n",
              "freq                    162                 132                     90   \n",
              "\n",
              "       Caffeine consumption   Fitness routine Stress management  \\\n",
              "count                   400               400               400   \n",
              "unique                    4                10                 4   \n",
              "top                   Never  Gym twice a week           Average   \n",
              "freq                    118                56               120   \n",
              "\n",
              "       Emotional eating         Free text comments  \n",
              "count               400                        304  \n",
              "unique                4                          4  \n",
              "top              Rarely  It's a complex condition.  \n",
              "freq                104                         92  \n",
              "\n",
              "[4 rows x 50 columns]"
            ],
            "text/html": [
              "\n",
              "  <div id=\"df-ebb6d939-f7be-43cc-b711-3f0b16d91737\" class=\"colab-df-container\">\n",
              "    <div>\n",
              "<style scoped>\n",
              "    .dataframe tbody tr th:only-of-type {\n",
              "        vertical-align: middle;\n",
              "    }\n",
              "\n",
              "    .dataframe tbody tr th {\n",
              "        vertical-align: top;\n",
              "    }\n",
              "\n",
              "    .dataframe thead th {\n",
              "        text-align: right;\n",
              "    }\n",
              "</style>\n",
              "<table border=\"1\" class=\"dataframe\">\n",
              "  <thead>\n",
              "    <tr style=\"text-align: right;\">\n",
              "      <th></th>\n",
              "      <th>Age Group</th>\n",
              "      <th>Gender</th>\n",
              "      <th>Are you currently a student?</th>\n",
              "      <th>Level of study</th>\n",
              "      <th>Mode of study</th>\n",
              "      <th>Study format</th>\n",
              "      <th>Academic Program</th>\n",
              "      <th>Nationality</th>\n",
              "      <th>Height</th>\n",
              "      <th>Weight</th>\n",
              "      <th>...</th>\n",
              "      <th>Physical activity level</th>\n",
              "      <th>Recent weight gain or difficulty losing</th>\n",
              "      <th>Smoke or tobacco use</th>\n",
              "      <th>Alcohol consumption</th>\n",
              "      <th>Daily diet description</th>\n",
              "      <th>Caffeine consumption</th>\n",
              "      <th>Fitness routine</th>\n",
              "      <th>Stress management</th>\n",
              "      <th>Emotional eating</th>\n",
              "      <th>Free text comments</th>\n",
              "    </tr>\n",
              "  </thead>\n",
              "  <tbody>\n",
              "    <tr>\n",
              "      <th>count</th>\n",
              "      <td>400</td>\n",
              "      <td>400</td>\n",
              "      <td>400</td>\n",
              "      <td>400</td>\n",
              "      <td>400</td>\n",
              "      <td>400</td>\n",
              "      <td>400</td>\n",
              "      <td>400</td>\n",
              "      <td>400</td>\n",
              "      <td>400</td>\n",
              "      <td>...</td>\n",
              "      <td>400</td>\n",
              "      <td>400</td>\n",
              "      <td>400</td>\n",
              "      <td>400</td>\n",
              "      <td>400</td>\n",
              "      <td>400</td>\n",
              "      <td>400</td>\n",
              "      <td>400</td>\n",
              "      <td>400</td>\n",
              "      <td>304</td>\n",
              "    </tr>\n",
              "    <tr>\n",
              "      <th>unique</th>\n",
              "      <td>6</td>\n",
              "      <td>4</td>\n",
              "      <td>2</td>\n",
              "      <td>4</td>\n",
              "      <td>2</td>\n",
              "      <td>2</td>\n",
              "      <td>12</td>\n",
              "      <td>10</td>\n",
              "      <td>50</td>\n",
              "      <td>75</td>\n",
              "      <td>...</td>\n",
              "      <td>4</td>\n",
              "      <td>2</td>\n",
              "      <td>3</td>\n",
              "      <td>4</td>\n",
              "      <td>8</td>\n",
              "      <td>4</td>\n",
              "      <td>10</td>\n",
              "      <td>4</td>\n",
              "      <td>4</td>\n",
              "      <td>4</td>\n",
              "    </tr>\n",
              "    <tr>\n",
              "      <th>top</th>\n",
              "      <td>25-34</td>\n",
              "      <td>Male</td>\n",
              "      <td>No</td>\n",
              "      <td>Postgraduate Research (PGR)</td>\n",
              "      <td>Full-time</td>\n",
              "      <td>On-campus</td>\n",
              "      <td>MA History</td>\n",
              "      <td>British</td>\n",
              "      <td>152 cm</td>\n",
              "      <td>66 kg</td>\n",
              "      <td>...</td>\n",
              "      <td>Very low</td>\n",
              "      <td>No</td>\n",
              "      <td>No</td>\n",
              "      <td>Never</td>\n",
              "      <td>Vegetarian/vegan</td>\n",
              "      <td>Never</td>\n",
              "      <td>Gym twice a week</td>\n",
              "      <td>Average</td>\n",
              "      <td>Rarely</td>\n",
              "      <td>It's a complex condition.</td>\n",
              "    </tr>\n",
              "    <tr>\n",
              "      <th>freq</th>\n",
              "      <td>78</td>\n",
              "      <td>136</td>\n",
              "      <td>208</td>\n",
              "      <td>116</td>\n",
              "      <td>200</td>\n",
              "      <td>204</td>\n",
              "      <td>46</td>\n",
              "      <td>52</td>\n",
              "      <td>16</td>\n",
              "      <td>14</td>\n",
              "      <td>...</td>\n",
              "      <td>118</td>\n",
              "      <td>216</td>\n",
              "      <td>162</td>\n",
              "      <td>132</td>\n",
              "      <td>90</td>\n",
              "      <td>118</td>\n",
              "      <td>56</td>\n",
              "      <td>120</td>\n",
              "      <td>104</td>\n",
              "      <td>92</td>\n",
              "    </tr>\n",
              "  </tbody>\n",
              "</table>\n",
              "<p>4 rows × 50 columns</p>\n",
              "</div>\n",
              "    <div class=\"colab-df-buttons\">\n",
              "\n",
              "  <div class=\"colab-df-container\">\n",
              "    <button class=\"colab-df-convert\" onclick=\"convertToInteractive('df-ebb6d939-f7be-43cc-b711-3f0b16d91737')\"\n",
              "            title=\"Convert this dataframe to an interactive table.\"\n",
              "            style=\"display:none;\">\n",
              "\n",
              "  <svg xmlns=\"http://www.w3.org/2000/svg\" height=\"24px\" viewBox=\"0 -960 960 960\">\n",
              "    <path d=\"M120-120v-720h720v720H120Zm60-500h600v-160H180v160Zm220 220h160v-160H400v160Zm0 220h160v-160H400v160ZM180-400h160v-160H180v160Zm440 0h160v-160H620v160ZM180-180h160v-160H180v160Zm440 0h160v-160H620v160Z\"/>\n",
              "  </svg>\n",
              "    </button>\n",
              "\n",
              "  <style>\n",
              "    .colab-df-container {\n",
              "      display:flex;\n",
              "      gap: 12px;\n",
              "    }\n",
              "\n",
              "    .colab-df-convert {\n",
              "      background-color: #E8F0FE;\n",
              "      border: none;\n",
              "      border-radius: 50%;\n",
              "      cursor: pointer;\n",
              "      display: none;\n",
              "      fill: #1967D2;\n",
              "      height: 32px;\n",
              "      padding: 0 0 0 0;\n",
              "      width: 32px;\n",
              "    }\n",
              "\n",
              "    .colab-df-convert:hover {\n",
              "      background-color: #E2EBFA;\n",
              "      box-shadow: 0px 1px 2px rgba(60, 64, 67, 0.3), 0px 1px 3px 1px rgba(60, 64, 67, 0.15);\n",
              "      fill: #174EA6;\n",
              "    }\n",
              "\n",
              "    .colab-df-buttons div {\n",
              "      margin-bottom: 4px;\n",
              "    }\n",
              "\n",
              "    [theme=dark] .colab-df-convert {\n",
              "      background-color: #3B4455;\n",
              "      fill: #D2E3FC;\n",
              "    }\n",
              "\n",
              "    [theme=dark] .colab-df-convert:hover {\n",
              "      background-color: #434B5C;\n",
              "      box-shadow: 0px 1px 3px 1px rgba(0, 0, 0, 0.15);\n",
              "      filter: drop-shadow(0px 1px 2px rgba(0, 0, 0, 0.3));\n",
              "      fill: #FFFFFF;\n",
              "    }\n",
              "  </style>\n",
              "\n",
              "    <script>\n",
              "      const buttonEl =\n",
              "        document.querySelector('#df-ebb6d939-f7be-43cc-b711-3f0b16d91737 button.colab-df-convert');\n",
              "      buttonEl.style.display =\n",
              "        google.colab.kernel.accessAllowed ? 'block' : 'none';\n",
              "\n",
              "      async function convertToInteractive(key) {\n",
              "        const element = document.querySelector('#df-ebb6d939-f7be-43cc-b711-3f0b16d91737');\n",
              "        const dataTable =\n",
              "          await google.colab.kernel.invokeFunction('convertToInteractive',\n",
              "                                                    [key], {});\n",
              "        if (!dataTable) return;\n",
              "\n",
              "        const docLinkHtml = 'Like what you see? Visit the ' +\n",
              "          '<a target=\"_blank\" href=https://colab.research.google.com/notebooks/data_table.ipynb>data table notebook</a>'\n",
              "          + ' to learn more about interactive tables.';\n",
              "        element.innerHTML = '';\n",
              "        dataTable['output_type'] = 'display_data';\n",
              "        await google.colab.output.renderOutput(dataTable, element);\n",
              "        const docLink = document.createElement('div');\n",
              "        docLink.innerHTML = docLinkHtml;\n",
              "        element.appendChild(docLink);\n",
              "      }\n",
              "    </script>\n",
              "  </div>\n",
              "\n",
              "\n",
              "    <div id=\"df-0d061e3e-59c9-4ee3-a4d0-1f7e29c907f8\">\n",
              "      <button class=\"colab-df-quickchart\" onclick=\"quickchart('df-0d061e3e-59c9-4ee3-a4d0-1f7e29c907f8')\"\n",
              "                title=\"Suggest charts\"\n",
              "                style=\"display:none;\">\n",
              "\n",
              "<svg xmlns=\"http://www.w3.org/2000/svg\" height=\"24px\"viewBox=\"0 0 24 24\"\n",
              "     width=\"24px\">\n",
              "    <g>\n",
              "        <path d=\"M19 3H5c-1.1 0-2 .9-2 2v14c0 1.1.9 2 2 2h14c1.1 0 2-.9 2-2V5c0-1.1-.9-2-2-2zM9 17H7v-7h2v7zm4 0h-2V7h2v10zm4 0h-2v-4h2v4z\"/>\n",
              "    </g>\n",
              "</svg>\n",
              "      </button>\n",
              "\n",
              "<style>\n",
              "  .colab-df-quickchart {\n",
              "      --bg-color: #E8F0FE;\n",
              "      --fill-color: #1967D2;\n",
              "      --hover-bg-color: #E2EBFA;\n",
              "      --hover-fill-color: #174EA6;\n",
              "      --disabled-fill-color: #AAA;\n",
              "      --disabled-bg-color: #DDD;\n",
              "  }\n",
              "\n",
              "  [theme=dark] .colab-df-quickchart {\n",
              "      --bg-color: #3B4455;\n",
              "      --fill-color: #D2E3FC;\n",
              "      --hover-bg-color: #434B5C;\n",
              "      --hover-fill-color: #FFFFFF;\n",
              "      --disabled-bg-color: #3B4455;\n",
              "      --disabled-fill-color: #666;\n",
              "  }\n",
              "\n",
              "  .colab-df-quickchart {\n",
              "    background-color: var(--bg-color);\n",
              "    border: none;\n",
              "    border-radius: 50%;\n",
              "    cursor: pointer;\n",
              "    display: none;\n",
              "    fill: var(--fill-color);\n",
              "    height: 32px;\n",
              "    padding: 0;\n",
              "    width: 32px;\n",
              "  }\n",
              "\n",
              "  .colab-df-quickchart:hover {\n",
              "    background-color: var(--hover-bg-color);\n",
              "    box-shadow: 0 1px 2px rgba(60, 64, 67, 0.3), 0 1px 3px 1px rgba(60, 64, 67, 0.15);\n",
              "    fill: var(--button-hover-fill-color);\n",
              "  }\n",
              "\n",
              "  .colab-df-quickchart-complete:disabled,\n",
              "  .colab-df-quickchart-complete:disabled:hover {\n",
              "    background-color: var(--disabled-bg-color);\n",
              "    fill: var(--disabled-fill-color);\n",
              "    box-shadow: none;\n",
              "  }\n",
              "\n",
              "  .colab-df-spinner {\n",
              "    border: 2px solid var(--fill-color);\n",
              "    border-color: transparent;\n",
              "    border-bottom-color: var(--fill-color);\n",
              "    animation:\n",
              "      spin 1s steps(1) infinite;\n",
              "  }\n",
              "\n",
              "  @keyframes spin {\n",
              "    0% {\n",
              "      border-color: transparent;\n",
              "      border-bottom-color: var(--fill-color);\n",
              "      border-left-color: var(--fill-color);\n",
              "    }\n",
              "    20% {\n",
              "      border-color: transparent;\n",
              "      border-left-color: var(--fill-color);\n",
              "      border-top-color: var(--fill-color);\n",
              "    }\n",
              "    30% {\n",
              "      border-color: transparent;\n",
              "      border-left-color: var(--fill-color);\n",
              "      border-top-color: var(--fill-color);\n",
              "      border-right-color: var(--fill-color);\n",
              "    }\n",
              "    40% {\n",
              "      border-color: transparent;\n",
              "      border-right-color: var(--fill-color);\n",
              "      border-top-color: var(--fill-color);\n",
              "    }\n",
              "    60% {\n",
              "      border-color: transparent;\n",
              "      border-right-color: var(--fill-color);\n",
              "    }\n",
              "    80% {\n",
              "      border-color: transparent;\n",
              "      border-right-color: var(--fill-color);\n",
              "      border-bottom-color: var(--fill-color);\n",
              "    }\n",
              "    90% {\n",
              "      border-color: transparent;\n",
              "      border-bottom-color: var(--fill-color);\n",
              "    }\n",
              "  }\n",
              "</style>\n",
              "\n",
              "      <script>\n",
              "        async function quickchart(key) {\n",
              "          const quickchartButtonEl =\n",
              "            document.querySelector('#' + key + ' button');\n",
              "          quickchartButtonEl.disabled = true;  // To prevent multiple clicks.\n",
              "          quickchartButtonEl.classList.add('colab-df-spinner');\n",
              "          try {\n",
              "            const charts = await google.colab.kernel.invokeFunction(\n",
              "                'suggestCharts', [key], {});\n",
              "          } catch (error) {\n",
              "            console.error('Error during call to suggestCharts:', error);\n",
              "          }\n",
              "          quickchartButtonEl.classList.remove('colab-df-spinner');\n",
              "          quickchartButtonEl.classList.add('colab-df-quickchart-complete');\n",
              "        }\n",
              "        (() => {\n",
              "          let quickchartButtonEl =\n",
              "            document.querySelector('#df-0d061e3e-59c9-4ee3-a4d0-1f7e29c907f8 button');\n",
              "          quickchartButtonEl.style.display =\n",
              "            google.colab.kernel.accessAllowed ? 'block' : 'none';\n",
              "        })();\n",
              "      </script>\n",
              "    </div>\n",
              "\n",
              "    </div>\n",
              "  </div>\n"
            ],
            "application/vnd.google.colaboratory.intrinsic+json": {
              "type": "dataframe"
            }
          },
          "metadata": {},
          "execution_count": 4
        }
      ]
    },
    {
      "cell_type": "markdown",
      "source": [
        "Analyze Patterns & Disparities"
      ],
      "metadata": {
        "id": "FjSDHd7QAFsg"
      }
    },
    {
      "cell_type": "code",
      "source": [
        "# Check unique values\n",
        "print(df['Diagnosed with PCOS'].value_counts())\n",
        "\n",
        "# Plot diagnosis distribution\n",
        "sns.countplot(x='Diagnosed with PCOS', data=df)\n",
        "plt.title('PCOS Diagnosis Distribution')\n",
        "plt.show()"
      ],
      "metadata": {
        "colab": {
          "base_uri": "https://localhost:8080/",
          "height": 561
        },
        "id": "StdkEAy9AIqN",
        "outputId": "2b8db089-0f20-45d3-9894-ef09b3039228"
      },
      "execution_count": null,
      "outputs": [
        {
          "output_type": "stream",
          "name": "stdout",
          "text": [
            "Diagnosed with PCOS\n",
            "Yes               138\n",
            "Not applicable    136\n",
            "No                126\n",
            "Name: count, dtype: int64\n"
          ]
        },
        {
          "output_type": "display_data",
          "data": {
            "text/plain": [
              "<Figure size 640x480 with 1 Axes>"
            ],
            "image/png": "[encoded data removed]"
          },
          "metadata": {}
        }
      ]
    },
    {
      "cell_type": "markdown",
      "source": [
        "The chart displays the distribution of PCOS diagnoses in the dataset. Out of the respondents, 138 reported being diagnosed with PCOS, 126 reported not having PCOS, and 136 marked “Not applicable.” The bars in the plot show these counts, revealing a fairly even split among the three categories."
      ],
      "metadata": {
        "id": "KD8fuu9IGxbK"
      }
    },
    {
      "cell_type": "markdown",
      "source": [
        "Correlations"
      ],
      "metadata": {
        "id": "l-buJfRYAROQ"
      }
    },
    {
      "cell_type": "code",
      "source": [
        "# Convert 'Age Group' to numerical representation\n",
        "df['Age Group Numerical'] = df['Age Group'].apply(lambda x: int(x.split('-')[0].replace('+', '')))\n",
        "\n",
        "# Convert 'Diagnosed with PCOS' to numerical (Yes=1, No=0, Not applicable=NaN)\n",
        "df['Diagnosed with PCOS Numerical'] = df['Diagnosed with PCOS'].apply(lambda x: 1 if x == 'Yes' else (0 if x == 'No' else np.nan))\n",
        "\n",
        "# Drop the original 'Age Group' and 'Diagnosed with PCOS' columns for correlation analysis\n",
        "df_numerical = df.drop(['Age Group', 'Diagnosed with PCOS'], axis=1)\n",
        "\n",
        "# Calculate correlation with numerical PCOS diagnosis\n",
        "corr = df_numerical.corr(numeric_only=True)['Diagnosed with PCOS Numerical'].sort_values(ascending=False)\n",
        "print(corr)\n",
        "\n",
        "# Plot top correlations (excluding the target variable itself and NaNs)\n",
        "corr_to_plot = corr.drop('Diagnosed with PCOS Numerical').dropna()\n",
        "if not corr_to_plot.empty:\n",
        "    corr_to_plot.head(10).plot(kind='bar')\n",
        "    plt.title('Top Features Correlated with PCOS')\n",
        "    plt.show()\n",
        "else:\n",
        "    print(\"No numerical features left to plot correlations with PCOS after dropping NaNs.\")"
      ],
      "metadata": {
        "colab": {
          "base_uri": "https://localhost:8080/",
          "height": 641
        },
        "id": "xNFU2q-aATY7",
        "outputId": "97b0324f-4587-48af-e708-64ad1f7a19de"
      },
      "execution_count": null,
      "outputs": [
        {
          "output_type": "stream",
          "name": "stdout",
          "text": [
            "Diagnosed with PCOS Numerical    1.000000\n",
            "Age Group Numerical              0.109024\n",
            "Name: Diagnosed with PCOS Numerical, dtype: float64\n"
          ]
        },
        {
          "output_type": "display_data",
          "data": {
            "text/plain": [
              "<Figure size 640x480 with 1 Axes>"
            ],
            "image/png": "[encoded data removed]"
          },
          "metadata": {}
        }
      ]
    },
    {
      "cell_type": "markdown",
      "source": [
        "The analysis converts categorical values for Age Group and Diagnosed with PCOS into numerical form to compute correlations. The bar chart displays the feature most correlated with PCOS diagnosis in the dataset.\n",
        "\n",
        "Age Group Numerical has a correlation of 0.109 with being diagnosed with PCOS, suggesting a weak positive relationship.\n",
        "\n",
        "No other numerical features remain in the dataset for further correlation analysis after filtering.\n",
        "\n",
        "Overall, Age Group shows only a slight correlation with PCOS diagnosis in this data."
      ],
      "metadata": {
        "id": "53_VELtsO8gW"
      }
    },
    {
      "cell_type": "markdown",
      "source": [
        "Feature Analysis"
      ],
      "metadata": {
        "id": "1_UOrup8Aahj"
      }
    },
    {
      "cell_type": "code",
      "source": [
        "features_of_interest = ['BMI', 'Weight (Kg)', 'Cycle(R/I)']  # adjust names as needed\n",
        "\n",
        "for feature in features_of_interest:\n",
        "    if feature in df.columns:\n",
        "        sns.boxplot(x='PCOS (Y/N)', y=feature, data=df)\n",
        "        plt.title(f\"{feature} vs PCOS Diagnosis\")\n",
        "        plt.show()\n"
      ],
      "metadata": {
        "id": "Dvf0007zAdTb"
      },
      "execution_count": null,
      "outputs": []
    },
    {
      "cell_type": "markdown",
      "source": [
        "Prepare Data for ML"
      ],
      "metadata": {
        "id": "P48bk8PWAkcu"
      }
    },
    {
      "cell_type": "code",
      "source": [
        "# Drop non-numeric or irrelevant columns if any\n",
        "# e.g. df.drop(columns=['Patient ID'], inplace=True)\n",
        "\n",
        "# Separate features and target\n",
        "X = df.drop(columns=['Diagnosed with PCOS', 'Age Group', 'Gender', 'Are you currently a student?', 'Level of study', 'Mode of study', 'Study format', 'Academic Program', 'Nationality', 'Height', 'Weight', 'Access to healthcare', 'Heard of PCOS', 'First heard about PCOS', 'Knowledge of PCOS', 'Symptoms of PCOS', 'PCOS managed by lifestyle', 'PCOS is curable', 'PCOS affects mental health', 'Know someone with PCOS', 'More awareness needed', 'Irregular menstrual cycles', 'Missed period >2 months', 'Spotting or bleeding between cycles', 'Hormonal blood tests', 'Ovarian cysts', 'Taken hormonal medications', 'Track menstrual cycle', 'Other symptoms', 'Insulin resistance or pre-diabetes', 'Fatigue frequency', 'Mood changes', 'Bloating or digestive issues', 'Skin issues', 'Breast tenderness', 'Hair thinning or bald spots', 'Supplements or hormonal meds', 'Sleep patterns', 'Medical conditions', 'Sugary/processed food frequency', 'Physical activity level', 'Recent weight gain or difficulty losing', 'Smoke or tobacco use', 'Alcohol consumption', 'Daily diet description', 'Caffeine consumption', 'Fitness routine', 'Stress management', 'Emotional eating', 'Free text comments'])\n",
        "y = df['Diagnosed with PCOS']\n",
        "\n",
        "# Convert target variable to numerical (Yes=1, No=0, Not applicable=NaN)\n",
        "y = y.apply(lambda x: 1 if x == 'Yes' else (0 if x == 'No' else np.nan))\n",
        "\n",
        "# Drop rows with NaN in the target variable\n",
        "X = X.dropna(subset=['Diagnosed with PCOS Numerical'])\n",
        "y = y.dropna()\n",
        "\n",
        "\n",
        "# Fill missing values in features (using the mean of each column)\n",
        "X = X.fillna(X.mean(numeric_only=True))\n",
        "\n",
        "# Select only numerical columns for scaling\n",
        "X_numerical = X.select_dtypes(include=np.number)\n",
        "\n",
        "# Scale numeric features\n",
        "scaler = StandardScaler()\n",
        "X_scaled = scaler.fit_transform(X_numerical)"
      ],
      "metadata": {
        "id": "PMplDd-BAlwr"
      },
      "execution_count": null,
      "outputs": []
    },
    {
      "cell_type": "markdown",
      "source": [
        "Split Data"
      ],
      "metadata": {
        "id": "KQ3PxG93AuBN"
      }
    },
    {
      "cell_type": "code",
      "source": [
        "X_train, X_test, y_train, y_test = train_test_split(\n",
        "    X_scaled, y, test_size=0.2, random_state=42\n",
        ")\n"
      ],
      "metadata": {
        "id": "akElmhUZAwsC"
      },
      "execution_count": null,
      "outputs": []
    },
    {
      "cell_type": "markdown",
      "source": [
        "Train Random Forest Model"
      ],
      "metadata": {
        "id": "zUJUuLDHAzOq"
      }
    },
    {
      "cell_type": "code",
      "source": [
        "model = RandomForestClassifier(n_estimators=100, random_state=42)\n",
        "model.fit(X_train, y_train)\n",
        "\n",
        "# Predictions\n",
        "y_pred = model.predict(X_test)\n",
        "\n",
        "# Evaluation\n",
        "print(classification_report(y_test, y_pred))\n",
        "print(confusion_matrix(y_test, y_pred))\n",
        "\n",
        "# Feature importance\n",
        "importances = model.feature_importances_\n",
        "# Use the columns from the original X before scaling for feature names\n",
        "feat_names = X.columns\n",
        "\n",
        "feat_imp_df = pd.Series(importances, index=feat_names).sort_values(ascending=False)\n",
        "feat_imp_df.head(10).plot(kind='bar')\n",
        "plt.title('Top 10 Feature Importances')\n",
        "plt.show()"
      ],
      "metadata": {
        "colab": {
          "base_uri": "https://localhost:8080/",
          "height": 859
        },
        "id": "Ef5avR1aA3v2",
        "outputId": "ab30a62e-105f-41c8-a2c2-7e3688ca6141"
      },
      "execution_count": null,
      "outputs": [
        {
          "output_type": "stream",
          "name": "stdout",
          "text": [
            "              precision    recall  f1-score   support\n",
            "\n",
            "         0.0       1.00      1.00      1.00        31\n",
            "         1.0       1.00      1.00      1.00        22\n",
            "\n",
            "    accuracy                           1.00        53\n",
            "   macro avg       1.00      1.00      1.00        53\n",
            "weighted avg       1.00      1.00      1.00        53\n",
            "\n",
            "[[31  0]\n",
            " [ 0 22]]\n"
          ]
        },
        {
          "output_type": "display_data",
          "data": {
            "text/plain": [
              "<Figure size 640x480 with 1 Axes>"
            ],
            "image/png": "[encoded data removed]"
          },
          "metadata": {}
        }
      ]
    },
    {
      "cell_type": "markdown",
      "source": [
        "The model achieves 100% accuracy, precision, recall, and F1-score, likely due to heavy reliance on a single feature—\"Diagnosed with PCOS Numerical\"—which dominates the feature importance plot. This suggests potential data leakage or strong correlation with the target variable, making the model’s performance potentially misleading."
      ],
      "metadata": {
        "id": "sVwZl_1LPR3b"
      }
    },
    {
      "cell_type": "markdown",
      "source": [
        "Save the Model"
      ],
      "metadata": {
        "id": "kIyhL6BnA64O"
      }
    },
    {
      "cell_type": "code",
      "source": [
        "import joblib\n",
        "\n",
        "# Save model\n",
        "joblib.dump(model, 'pcos_model.pkl')\n",
        "\n",
        "# Example to load model:\n",
        "# loaded_model = joblib.load('pcos_model.pkl')\n"
      ],
      "metadata": {
        "colab": {
          "base_uri": "https://localhost:8080/"
        },
        "id": "Lk6IV0moA-u-",
        "outputId": "3c8bf7ab-63e4-43cb-9fbd-139838437cad"
      },
      "execution_count": null,
      "outputs": [
        {
          "output_type": "execute_result",
          "data": {
            "text/plain": [
              "['pcos_model.pkl']"
            ]
          },
          "metadata": {},
          "execution_count": 11
        }
      ]
    },
    {
      "cell_type": "markdown",
      "source": [
        "Let’s see if BMI, weight, or hormones differ between groups."
      ],
      "metadata": {
        "id": "W0n28sd7B_Hx"
      }
    },
    {
      "cell_type": "code",
      "source": [
        "features = ['Height', 'Weight', 'Irregular menstrual cycles']  # add or adjust as needed\n",
        "\n",
        "for feat in features:\n",
        "    if feat in df.columns:\n",
        "        sns.boxplot(x='Diagnosed with PCOS', y=feat, data=df)\n",
        "        plt.title(f\"{feat} vs PCOS Diagnosis\")\n",
        "        plt.show()\n",
        "\n",
        "# Compute group means for numerical features\n",
        "numerical_features_for_mean = ['Age Group Numerical', 'Diagnosed with PCOS Numerical'] # Add other numerical features if any\n",
        "group_means = df.groupby('Diagnosed with PCOS')[numerical_features_for_mean].mean()\n",
        "print(group_means)"
      ],
      "metadata": {
        "colab": {
          "base_uri": "https://localhost:8080/",
          "height": 1000
        },
        "id": "XCxDv_PcB4B4",
        "outputId": "3381957b-da9b-4c79-d7ec-1db6f8e755e6"
      },
      "execution_count": null,
      "outputs": [
        {
          "output_type": "display_data",
          "data": {
            "text/plain": [
              "<Figure size 640x480 with 1 Axes>"
            ],
            "image/png": "[encoded data removed]"
          },
          "metadata": {}
        },
        {
          "output_type": "display_data",
          "data": {
            "text/plain": [
              "<Figure size 640x480 with 1 Axes>"
            ],
            "image/png": "[encoded data removed]"
          },
          "metadata": {}
        },
        {
          "output_type": "display_data",
          "data": {
            "text/plain": [
              "<Figure size 640x480 with 1 Axes>"
            ],
            "image/png": "[encoded data removed]"
          },
          "metadata": {}
        },
        {
          "output_type": "stream",
          "name": "stdout",
          "text": [
            "                     Age Group Numerical  Diagnosed with PCOS Numerical\n",
            "Diagnosed with PCOS                                                    \n",
            "No                             37.142857                            0.0\n",
            "Not applicable                 39.544118                            NaN\n",
            "Yes                            40.753623                            1.0\n"
          ]
        }
      ]
    },
    {
      "cell_type": "markdown",
      "source": [
        "Chart 1: Height vs PCOS Diagnosis\n",
        "Groups:\n",
        "Not applicable\n",
        "\n",
        "No (not diagnosed with PCOS)\n",
        "\n",
        "Yes (diagnosed with PCOS)\n",
        "\n",
        "Observations:\n",
        "Median height is relatively similar across all three groups.\n",
        "\n",
        "The \"Not applicable\" group has a wider interquartile range (IQR) and more variability in height.\n",
        "\n",
        "All groups appear to span roughly the same range of heights, with no significant difference in central tendency (medians).\n",
        "\n",
        "There are some potential outliers, but no obvious trend suggesting height is associated with PCOS diagnosis.\n",
        "\n",
        "Interpretation:\n",
        "Height does not show a strong pattern or significant distinction between PCOS diagnosis categories. It likely contributes minimally to PCOS classification.\n",
        "\n",
        "📊 Chart 2: Weight vs PCOS Diagnosis\n",
        "Observations:\n",
        "Median weight is:\n",
        "\n",
        "Slightly higher for those diagnosed with PCOS compared to the \"No\" group.\n",
        "\n",
        "Highest in the \"Not applicable\" group, which again has greater variability.\n",
        "\n",
        "IQR and range are comparable between diagnosed and undiagnosed groups, though the diagnosed group seems to trend slightly heavier overall.\n",
        "\n",
        "The \"No\" group shows a slightly lower weight distribution.\n",
        "\n",
        "Interpretation:\n",
        "There is a mild trend indicating that individuals diagnosed with PCOS might have slightly higher weights on average. However, the overlap is still large, and the distinction is not sharp. Weight may play a moderate role but is not a dominant feature.\n",
        "\n"
      ],
      "metadata": {
        "id": "UMSctVUJQCHz"
      }
    },
    {
      "cell_type": "markdown",
      "source": [
        "Logistic Regression"
      ],
      "metadata": {
        "id": "h1ueSzC9CDdH"
      }
    },
    {
      "cell_type": "code",
      "source": [
        "from sklearn.linear_model import LogisticRegression\n",
        "\n",
        "logreg = LogisticRegression(max_iter=1000)\n",
        "logreg.fit(X_train, y_train)\n",
        "\n",
        "y_pred_lr = logreg.predict(X_test)\n",
        "print(\"Logistic Regression Results:\")\n",
        "print(classification_report(y_test, y_pred_lr))"
      ],
      "metadata": {
        "colab": {
          "base_uri": "https://localhost:8080/"
        },
        "id": "t1KbSd9XC1wG",
        "outputId": "560e9534-6017-4444-84ab-0e60fcd3becf"
      },
      "execution_count": null,
      "outputs": [
        {
          "output_type": "stream",
          "name": "stdout",
          "text": [
            "Logistic Regression Results:\n",
            "              precision    recall  f1-score   support\n",
            "\n",
            "         0.0       1.00      1.00      1.00        31\n",
            "         1.0       1.00      1.00      1.00        22\n",
            "\n",
            "    accuracy                           1.00        53\n",
            "   macro avg       1.00      1.00      1.00        53\n",
            "weighted avg       1.00      1.00      1.00        53\n",
            "\n"
          ]
        }
      ]
    },
    {
      "cell_type": "markdown",
      "source": [
        "Logistic Regression achieved perfect classification performance on the test set, with an accuracy of 100%. Both precision and recall were 1.00 for patients with and without PCOS, indicating the model correctly identified all cases without false positives or false negatives. However, such perfect results may suggest potential data leakage or an easily separable dataset, warranting further validation to confirm model robustness."
      ],
      "metadata": {
        "id": "1z4F81sFQjK5"
      }
    },
    {
      "cell_type": "markdown",
      "source": [
        "Random Forest"
      ],
      "metadata": {
        "id": "hFlVX5hyDAMl"
      }
    },
    {
      "cell_type": "code",
      "source": [
        "rf = RandomForestClassifier(n_estimators=100, random_state=42)\n",
        "rf.fit(X_train, y_train)\n",
        "\n",
        "y_pred_rf = rf.predict(X_test)\n",
        "print(\"Random Forest Results:\")\n",
        "print(classification_report(y_test, y_pred_rf))\n",
        "\n",
        "# Feature importances\n",
        "feat_imp = pd.Series(rf.feature_importances_, index=X.columns).sort_values(ascending=False)\n",
        "feat_imp.head(10).plot(kind='barh')\n",
        "plt.title(\"Random Forest Top Features\")\n",
        "plt.show()\n"
      ],
      "metadata": {
        "colab": {
          "base_uri": "https://localhost:8080/",
          "height": 631
        },
        "id": "3KjQnN2ODE8w",
        "outputId": "a0762325-1991-46c4-cbb6-bed139dde7a0"
      },
      "execution_count": null,
      "outputs": [
        {
          "output_type": "stream",
          "name": "stdout",
          "text": [
            "Random Forest Results:\n",
            "              precision    recall  f1-score   support\n",
            "\n",
            "         0.0       1.00      1.00      1.00        31\n",
            "         1.0       1.00      1.00      1.00        22\n",
            "\n",
            "    accuracy                           1.00        53\n",
            "   macro avg       1.00      1.00      1.00        53\n",
            "weighted avg       1.00      1.00      1.00        53\n",
            "\n"
          ]
        },
        {
          "output_type": "display_data",
          "data": {
            "text/plain": [
              "<Figure size 640x480 with 1 Axes>"
            ],
            "image/png": "[encoded data removed]"
          },
          "metadata": {}
        }
      ]
    },
    {
      "cell_type": "markdown",
      "source": [
        "Random Forest achieved perfect classification on the test set, with 100% accuracy, precision, recall, and F1-score for both PCOS and non-PCOS classes. This indicates the model correctly predicted all cases. However, such flawless performance may point to possible data leakage, overfitting, or a very easily separable dataset, and should be validated with further testing."
      ],
      "metadata": {
        "id": "XbEeRT9eQqmO"
      }
    },
    {
      "cell_type": "markdown",
      "source": [
        "Support Vector Machine"
      ],
      "metadata": {
        "id": "TTVNOYb3DOFY"
      }
    },
    {
      "cell_type": "code",
      "metadata": {
        "colab": {
          "base_uri": "https://localhost:8080/"
        },
        "id": "p-Lz9z9zWDRDe",
        "outputId": "795f2f3b-d18e-44bd-f068-cfa57abca177"
      },
      "source": [
        "from sklearn.svm import SVC\n",
        "\n",
        "svm = SVC(kernel='rbf', probability=True)\n",
        "svm.fit(X_train, y_train)\n",
        "\n",
        "y_pred_svm = svm.predict(X_test)\n",
        "print(\"SVM Results:\")\n",
        "print(classification_report(y_test, y_pred_svm))"
      ],
      "execution_count": null,
      "outputs": [
        {
          "output_type": "stream",
          "name": "stdout",
          "text": [
            "SVM Results:\n",
            "              precision    recall  f1-score   support\n",
            "\n",
            "         0.0       1.00      1.00      1.00        31\n",
            "         1.0       1.00      1.00      1.00        22\n",
            "\n",
            "    accuracy                           1.00        53\n",
            "   macro avg       1.00      1.00      1.00        53\n",
            "weighted avg       1.00      1.00      1.00        53\n",
            "\n"
          ]
        }
      ]
    },
    {
      "cell_type": "markdown",
      "source": [
        "The SVM model achieved perfect performance, correctly classifying all PCOS and non-PCOS cases in the test set, with 100% accuracy, precision, recall, and F1-score. While impressive, such flawless results may indicate possible data leakage, overfitting, or an easily separable dataset, and should be further validated."
      ],
      "metadata": {
        "id": "IDV4Pgk5Qwq9"
      }
    },
    {
      "cell_type": "markdown",
      "source": [
        "XGBoost"
      ],
      "metadata": {
        "id": "dgLAEonhDZDm"
      }
    },
    {
      "cell_type": "code",
      "source": [
        "import xgboost as xgb\n",
        "\n",
        "xgb_model = xgb.XGBClassifier(use_label_encoder=False, eval_metric='logloss')\n",
        "xgb_model.fit(X_train, y_train)\n",
        "\n",
        "y_pred_xgb = xgb_model.predict(X_test)\n",
        "print(\"XGBoost Results:\")\n",
        "print(classification_report(y_test, y_pred_xgb))\n",
        "\n",
        "# Feature importances\n",
        "xgb.plot_importance(xgb_model, max_num_features=10)\n",
        "plt.show()"
      ],
      "metadata": {
        "colab": {
          "base_uri": "https://localhost:8080/",
          "height": 722
        },
        "id": "cnVCTi21Dgff",
        "outputId": "2e3d7ee2-a2da-4f7b-a04d-365d84cd1a1f"
      },
      "execution_count": null,
      "outputs": [
        {
          "output_type": "stream",
          "name": "stderr",
          "text": [
            "/usr/local/lib/python3.11/dist-packages/xgboost/core.py:158: UserWarning: [12:53:02] WARNING: /workspace/src/learner.cc:740: \n",
            "Parameters: { \"use_label_encoder\" } are not used.\n",
            "\n",
            "  warnings.warn(smsg, UserWarning)\n"
          ]
        },
        {
          "output_type": "stream",
          "name": "stdout",
          "text": [
            "XGBoost Results:\n",
            "              precision    recall  f1-score   support\n",
            "\n",
            "         0.0       1.00      1.00      1.00        31\n",
            "         1.0       1.00      1.00      1.00        22\n",
            "\n",
            "    accuracy                           1.00        53\n",
            "   macro avg       1.00      1.00      1.00        53\n",
            "weighted avg       1.00      1.00      1.00        53\n",
            "\n"
          ]
        },
        {
          "output_type": "display_data",
          "data": {
            "text/plain": [
              "<Figure size 640x480 with 1 Axes>"
            ],
            "image/png": "[encoded data removed]"
          },
          "metadata": {}
        }
      ]
    },
    {
      "cell_type": "markdown",
      "source": [
        "The XGBoost model achieved perfect classification on the test set, with 100% accuracy, precision, recall, and F1-score for both PCOS and non-PCOS classes. While this indicates excellent performance, such perfect results may suggest potential overfitting, data leakage, or an easily separable dataset, warranting further validation."
      ],
      "metadata": {
        "id": "VnMWgCj7RB1B"
      }
    },
    {
      "cell_type": "markdown",
      "source": [
        "Compare All Models\n",
        "Let’s quickly compare their cross-validation scores:"
      ],
      "metadata": {
        "id": "rTCxmKCoDngF"
      }
    },
    {
      "cell_type": "code",
      "source": [
        "from sklearn.model_selection import cross_val_score\n",
        "\n",
        "models = {\n",
        "    'Logistic Regression': logreg,\n",
        "    'Random Forest': rf,\n",
        "    'SVM': svm,\n",
        "    'XGBoost': xgb_model\n",
        "}\n",
        "\n",
        "for name, model in models.items():\n",
        "    scores = cross_val_score(model, X_scaled, y, cv=5, scoring='accuracy')\n",
        "    print(f\"{name}: Mean CV Accuracy = {scores.mean():.3f} ± {scores.std():.3f}\")"
      ],
      "metadata": {
        "colab": {
          "base_uri": "https://localhost:8080/"
        },
        "id": "P6x4CXT0DrXD",
        "outputId": "51d6aee4-34dd-43b9-a002-1d044e34cb85"
      },
      "execution_count": null,
      "outputs": [
        {
          "output_type": "stream",
          "name": "stdout",
          "text": [
            "Logistic Regression: Mean CV Accuracy = 1.000 ± 0.000\n",
            "Random Forest: Mean CV Accuracy = 1.000 ± 0.000\n",
            "SVM: Mean CV Accuracy = 1.000 ± 0.000\n"
          ]
        },
        {
          "output_type": "stream",
          "name": "stderr",
          "text": [
            "/usr/local/lib/python3.11/dist-packages/xgboost/core.py:158: UserWarning: [12:53:04] WARNING: /workspace/src/learner.cc:740: \n",
            "Parameters: { \"use_label_encoder\" } are not used.\n",
            "\n",
            "  warnings.warn(smsg, UserWarning)\n",
            "/usr/local/lib/python3.11/dist-packages/xgboost/core.py:158: UserWarning: [12:53:05] WARNING: /workspace/src/learner.cc:740: \n",
            "Parameters: { \"use_label_encoder\" } are not used.\n",
            "\n",
            "  warnings.warn(smsg, UserWarning)\n",
            "/usr/local/lib/python3.11/dist-packages/xgboost/core.py:158: UserWarning: [12:53:05] WARNING: /workspace/src/learner.cc:740: \n",
            "Parameters: { \"use_label_encoder\" } are not used.\n",
            "\n",
            "  warnings.warn(smsg, UserWarning)\n",
            "/usr/local/lib/python3.11/dist-packages/xgboost/core.py:158: UserWarning: [12:53:06] WARNING: /workspace/src/learner.cc:740: \n",
            "Parameters: { \"use_label_encoder\" } are not used.\n",
            "\n",
            "  warnings.warn(smsg, UserWarning)\n"
          ]
        },
        {
          "output_type": "stream",
          "name": "stdout",
          "text": [
            "XGBoost: Mean CV Accuracy = 1.000 ± 0.000\n"
          ]
        },
        {
          "output_type": "stream",
          "name": "stderr",
          "text": [
            "/usr/local/lib/python3.11/dist-packages/xgboost/core.py:158: UserWarning: [12:53:06] WARNING: /workspace/src/learner.cc:740: \n",
            "Parameters: { \"use_label_encoder\" } are not used.\n",
            "\n",
            "  warnings.warn(smsg, UserWarning)\n"
          ]
        }
      ]
    },
    {
      "cell_type": "markdown",
      "source": [
        "All models (Logistic Regression, Random Forest, SVM, and XGBoost) achieved perfect cross-validation accuracy of 100% with zero variability, suggesting the data is either highly separable or there may be data leakage or overfitting. The XGBoost warnings indicate that a deprecated parameter (use_label_encoder) was ignored and can safely be removed from the code. Further validation on external or unseen data is recommended to confirm these results.\n"
      ],
      "metadata": {
        "id": "klwqiDhORPi_"
      }
    },
    {
      "cell_type": "code",
      "source": [
        "import pandas as pd\n",
        "import numpy as np\n",
        "import seaborn as sns\n",
        "import matplotlib.pyplot as plt\n",
        "\n",
        "from sklearn.model_selection import train_test_split, cross_val_score, GridSearchCV, RandomizedSearchCV\n",
        "from sklearn.preprocessing import StandardScaler\n",
        "from sklearn.metrics import classification_report, confusion_matrix, roc_auc_score, roc_curve, mean_squared_error\n",
        "from sklearn.linear_model import LogisticRegression, LinearRegression\n",
        "from sklearn.ensemble import RandomForestClassifier, RandomForestRegressor\n",
        "from sklearn.svm import SVC\n",
        "import xgboost as xgb\n",
        "import shap\n",
        "from sklearn.cluster import KMeans\n"
      ],
      "metadata": {
        "id": "d3DU5jrFEI_6"
      },
      "execution_count": null,
      "outputs": []
    },
    {
      "cell_type": "code",
      "source": [
        "# SHAP for XGBoost\n",
        "explainer = shap.TreeExplainer(xgb_model)\n",
        "shap_values = explainer.shap_values(X)\n",
        "\n",
        "shap.summary_plot(shap_values, X, plot_type=\"bar\")\n"
      ],
      "metadata": {
        "colab": {
          "base_uri": "https://localhost:8080/",
          "height": 237
        },
        "id": "dIe0M1vaEL9f",
        "outputId": "9c3ad0be-dfab-4a16-8e4c-486b7ee03696"
      },
      "execution_count": null,
      "outputs": [
        {
          "output_type": "display_data",
          "data": {
            "text/plain": [
              "<Figure size 800x230 with 1 Axes>"
            ],
            "image/png": "[encoded data removed]"
          },
          "metadata": {}
        }
      ]
    },
    {
      "cell_type": "markdown",
      "source": [
        "Hyperparameter Tuning"
      ],
      "metadata": {
        "id": "gRy8COyzEUzH"
      }
    },
    {
      "cell_type": "code",
      "source": [
        "param_grid = {\n",
        "    'n_estimators': [50, 100, 200],\n",
        "    'max_depth': [None, 5, 10],\n",
        "    'min_samples_split': [2, 5, 10]\n",
        "}\n",
        "\n",
        "grid_search = GridSearchCV(RandomForestClassifier(random_state=42),\n",
        "                           param_grid,\n",
        "                           scoring='accuracy',\n",
        "                           cv=3)\n",
        "grid_search.fit(X_train, y_train)\n",
        "\n",
        "print(\"Best Params:\", grid_search.best_params_)\n",
        "print(\"Best Score:\", grid_search.best_score_)\n"
      ],
      "metadata": {
        "colab": {
          "base_uri": "https://localhost:8080/"
        },
        "id": "3Krx7uVaEW24",
        "outputId": "c4eb1f0c-73d8-4224-dfd7-1b43436bb413"
      },
      "execution_count": null,
      "outputs": [
        {
          "output_type": "stream",
          "name": "stdout",
          "text": [
            "Best Params: {'max_depth': None, 'min_samples_split': 2, 'n_estimators': 50}\n",
            "Best Score: 1.0\n"
          ]
        }
      ]
    },
    {
      "cell_type": "markdown",
      "source": [
        "Predict Hormone Levels (Regression)"
      ],
      "metadata": {
        "id": "HAyF1aKYEh_Y"
      }
    },
    {
      "cell_type": "code",
      "source": [
        "# Check target\n",
        "if 'AMH' in df.columns:\n",
        "    y_reg = df['AMH']\n",
        "    X_reg = df.drop(columns=['PCOS (Y/N)', 'AMH'])\n",
        "\n",
        "    X_reg_scaled = scaler.fit_transform(X_reg)\n",
        "\n",
        "    Xr_train, Xr_test, yr_train, yr_test = train_test_split(\n",
        "        X_reg_scaled, y_reg, test_size=0.2, random_state=42\n",
        "    )\n",
        "\n",
        "    rf_reg = RandomForestRegressor(n_estimators=100, random_state=42)\n",
        "    rf_reg.fit(Xr_train, yr_train)\n",
        "\n",
        "    y_pred_reg = rf_reg.predict(Xr_test)\n",
        "    mse = mean_squared_error(yr_test, y_pred_reg)\n",
        "    print(\"Random Forest Regression MSE:\", mse)\n",
        "\n",
        "    plt.scatter(yr_test, y_pred_reg)\n",
        "    plt.xlabel(\"Actual AMH\")\n",
        "    plt.ylabel(\"Predicted AMH\")\n",
        "    plt.title(\"AMH Prediction\")\n",
        "    plt.show()\n"
      ],
      "metadata": {
        "id": "CsKDqSSrEmBM"
      },
      "execution_count": null,
      "outputs": []
    },
    {
      "cell_type": "markdown",
      "source": [
        "Clustering PCOS Patients"
      ],
      "metadata": {
        "id": "fHKE00BZEs5C"
      }
    },
    {
      "cell_type": "code",
      "source": [
        "kmeans = KMeans(n_clusters=3, random_state=42, n_init=10) # Added n_init for KMeans\n",
        "clusters = kmeans.fit_predict(X_scaled)\n",
        "\n",
        "# Create a filtered DataFrame that matches the rows used for clustering\n",
        "df_clustered = df.dropna(subset=['Diagnosed with PCOS Numerical']).copy()\n",
        "\n",
        "df_clustered['Cluster'] = clusters\n",
        "sns.scatterplot(x=X_scaled[:,0], y=X_scaled[:,1], hue=clusters, palette='Set2')\n",
        "plt.title(\"Clusters of Patients\")\n",
        "plt.show()\n",
        "\n",
        "# See cluster means\n",
        "# Select only numerical columns for calculating means\n",
        "print(df_clustered.groupby('Cluster').mean(numeric_only=True))"
      ],
      "metadata": {
        "colab": {
          "base_uri": "https://localhost:8080/",
          "height": 541
        },
        "id": "kLuAavQFEtei",
        "outputId": "4df982e0-6cd0-428f-c6ee-8d2774c6f29f"
      },
      "execution_count": null,
      "outputs": [
        {
          "output_type": "display_data",
          "data": {
            "text/plain": [
              "<Figure size 640x480 with 1 Axes>"
            ],
            "image/png": "[encoded data removed]"
          },
          "metadata": {}
        },
        {
          "output_type": "stream",
          "name": "stdout",
          "text": [
            "         Age Group Numerical  Diagnosed with PCOS Numerical\n",
            "Cluster                                                    \n",
            "0                  55.416667                            1.0\n",
            "1                  37.142857                            0.0\n",
            "2                  24.757576                            1.0\n"
          ]
        }
      ]
    },
    {
      "cell_type": "markdown",
      "source": [
        "Cluster 0 has an average value of 55.42, with all cases labeled as PCOS (1.0).\n",
        "Cluster 1 has an average value of 37.14, with all cases labeled as non-PCOS (0.0).\n",
        "Cluster 2 has an average value of 24.76, again entirely PCOS (1.0).\n",
        "\n",
        "This suggests clear differences in the clustered feature’s average values between PCOS and non-PCOS groups, indicating potential patterns useful for distinguishing PCOS cases.\n"
      ],
      "metadata": {
        "id": "UDp2wGe2Rc2j"
      }
    },
    {
      "cell_type": "markdown",
      "source": [
        "Compare All Models\n",
        "Check CV scores:"
      ],
      "metadata": {
        "id": "Sx_FSMqiEzu6"
      }
    },
    {
      "cell_type": "code",
      "source": [
        "models = {\n",
        "    'Logistic Regression': logreg,\n",
        "    'Random Forest': rf,\n",
        "    'XGBoost': xgb_model\n",
        "}\n",
        "\n",
        "for name, model in models.items():\n",
        "    scores = cross_val_score(model, X_scaled, y, cv=5, scoring='accuracy')\n",
        "    print(f\"{name}: Mean CV Accuracy = {scores.mean():.3f} ± {scores.std():.3f}\")\n"
      ],
      "metadata": {
        "colab": {
          "base_uri": "https://localhost:8080/"
        },
        "id": "c799UAJtE20O",
        "outputId": "a19431b4-c785-4423-dadd-f0da06806060"
      },
      "execution_count": null,
      "outputs": [
        {
          "output_type": "stream",
          "name": "stdout",
          "text": [
            "Logistic Regression: Mean CV Accuracy = 1.000 ± 0.000\n",
            "Random Forest: Mean CV Accuracy = 1.000 ± 0.000\n",
            "XGBoost: Mean CV Accuracy = 1.000 ± 0.000\n"
          ]
        },
        {
          "output_type": "stream",
          "name": "stderr",
          "text": [
            "[12:53:46] WARNING: /workspace/src/learner.cc:740: \n",
            "Parameters: { \"use_label_encoder\" } are not used.\n",
            "\n",
            "[12:53:46] WARNING: /workspace/src/learner.cc:740: \n",
            "Parameters: { \"use_label_encoder\" } are not used.\n",
            "\n",
            "[12:53:46] WARNING: /workspace/src/learner.cc:740: \n",
            "Parameters: { \"use_label_encoder\" } are not used.\n",
            "\n",
            "[12:53:46] WARNING: /workspace/src/learner.cc:740: \n",
            "Parameters: { \"use_label_encoder\" } are not used.\n",
            "\n",
            "[12:53:46] WARNING: /workspace/src/learner.cc:740: \n",
            "Parameters: { \"use_label_encoder\" } are not used.\n",
            "\n"
          ]
        }
      ]
    },
    {
      "cell_type": "markdown",
      "source": [
        "All three models (Logistic Regression, Random Forest, and XGBoost) achieved perfect cross-validation accuracy of 100%, with zero variation across folds. While this suggests excellent performance, such perfect results may indicate data leakage, overfitting, or an easily separable dataset and should be validated further. The XGBoost warnings simply mean the use_label_encoder parameter is outdated and can be removed from the code."
      ],
      "metadata": {
        "id": "Va28xz6jRq5Z"
      }
    },
    {
      "cell_type": "code",
      "source": [
        "from google.colab import files\n",
        "files.download('pcos_dashboard_ready.csv')"
      ],
      "metadata": {
        "colab": {
          "base_uri": "https://localhost:8080/",
          "height": 17
        },
        "id": "H0Hp7-Ft0-BP",
        "outputId": "4e15fbb5-a366-4d61-a26d-66afba920a87"
      },
      "execution_count": 8,
      "outputs": [
        {
          "output_type": "display_data",
          "data": {
            "text/plain": [
              "<IPython.core.display.Javascript object>"
            ],
            "application/javascript": [
              "\n",
              "    async function download(id, filename, size) {\n",
              "      if (!google.colab.kernel.accessAllowed) {\n",
              "        return;\n",
              "      }\n",
              "      const div = document.createElement('div');\n",
              "      const label = document.createElement('label');\n",
              "      label.textContent = `Downloading \"${filename}\": `;\n",
              "      div.appendChild(label);\n",
              "      const progress = document.createElement('progress');\n",
              "      progress.max = size;\n",
              "      div.appendChild(progress);\n",
              "      document.body.appendChild(div);\n",
              "\n",
              "      const buffers = [];\n",
              "      let downloaded = 0;\n",
              "\n",
              "      const channel = await google.colab.kernel.comms.open(id);\n",
              "      // Send a message to notify the kernel that we're ready.\n",
              "      channel.send({})\n",
              "\n",
              "      for await (const message of channel.messages) {\n",
              "        // Send a message to notify the kernel that we're ready.\n",
              "        channel.send({})\n",
              "        if (message.buffers) {\n",
              "          for (const buffer of message.buffers) {\n",
              "            buffers.push(buffer);\n",
              "            downloaded += buffer.byteLength;\n",
              "            progress.value = downloaded;\n",
              "          }\n",
              "        }\n",
              "      }\n",
              "      const blob = new Blob(buffers, {type: 'application/binary'});\n",
              "      const a = document.createElement('a');\n",
              "      a.href = window.URL.createObjectURL(blob);\n",
              "      a.download = filename;\n",
              "      div.appendChild(a);\n",
              "      a.click();\n",
              "      div.remove();\n",
              "    }\n",
              "  "
            ]
          },
          "metadata": {}
        },
        {
          "output_type": "display_data",
          "data": {
            "text/plain": [
              "<IPython.core.display.Javascript object>"
            ],
            "application/javascript": [
              "download(\"download_5d1e799d-c244-4524-a2ec-d2780fdbb4e4\", \"pcos_dashboard_ready.csv\", 232115)"
            ]
          },
          "metadata": {}
        }
      ]
    }
  ]
}